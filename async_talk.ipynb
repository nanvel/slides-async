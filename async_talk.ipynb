{
 "cells": [
  {
   "cell_type": "markdown",
   "id": "c4446edd",
   "metadata": {
    "pycharm": {
     "name": "#%% md\n"
    }
   },
   "source": [
    "# A Brief History of Async"
   ]
  },
  {
   "cell_type": "markdown",
   "source": [
    "## Concurrency\n",
    "\n",
    "Concurrency == simulating parallelism by switching context.\n",
    "\n",
    "![concurrency](concurrency.png)"
   ],
   "metadata": {
    "collapsed": false
   }
  },
  {
   "cell_type": "markdown",
   "source": [
    "### Sequential execution"
   ],
   "metadata": {
    "collapsed": false
   }
  },
  {
   "cell_type": "code",
   "execution_count": 40,
   "outputs": [],
   "source": [
    "import httpx\n",
    "\n",
    "\n",
    "def job(n):\n",
    "    print(f\"--- request {n} sent\")\n",
    "    httpx.get(f\"https://example.com/{n}\")\n",
    "    print(f\"--- response {n} received\")"
   ],
   "metadata": {
    "collapsed": false,
    "pycharm": {
     "name": "#%%\n"
    }
   }
  },
  {
   "cell_type": "code",
   "execution_count": 41,
   "outputs": [
    {
     "name": "stdout",
     "output_type": "stream",
     "text": [
      "--- request 1 sent\n",
      "--- response 1 received\n",
      "--- request 2 sent\n",
      "--- response 2 received\n",
      "CPU times: user 47.7 ms, sys: 7.25 ms, total: 54.9 ms\n",
      "Wall time: 2.43 s\n"
     ]
    }
   ],
   "source": [
    "%%time\n",
    "\n",
    "job(1)\n",
    "job(2)"
   ],
   "metadata": {
    "collapsed": false,
    "pycharm": {
     "name": "#%%\n"
    }
   }
  },
  {
   "cell_type": "markdown",
   "source": [
    "### Threads\n",
    "\n",
    "A thread is an execution context, which is all the information a CPU needs to execute a stream of instructions.\n",
    "\n",
    "Switching context every sys.getswitchinterval() (5ms default)"
   ],
   "metadata": {
    "collapsed": false
   }
  },
  {
   "cell_type": "code",
   "execution_count": 42,
   "outputs": [
    {
     "name": "stdout",
     "output_type": "stream",
     "text": [
      "0.005\n"
     ]
    }
   ],
   "source": [
    "import sys\n",
    "\n",
    "\n",
    "print(sys.getswitchinterval())"
   ],
   "metadata": {
    "collapsed": false,
    "pycharm": {
     "name": "#%%\n"
    }
   }
  },
  {
   "cell_type": "code",
   "execution_count": 43,
   "outputs": [
    {
     "name": "stdout",
     "output_type": "stream",
     "text": [
      "--- request 1 sent\n",
      "--- request 2 sent\n",
      "--- response 1 received\n",
      "--- response 2 received\n",
      "CPU times: user 37.3 ms, sys: 14.2 ms, total: 51.5 ms\n",
      "Wall time: 1.09 s\n"
     ]
    }
   ],
   "source": [
    "%%time\n",
    "\n",
    "from functools import partial\n",
    "from threading import Thread\n",
    "\n",
    "\n",
    "thread_1 = Thread(target=partial(job, n=1))\n",
    "thread_2 = Thread(target=partial(job, n=2))\n",
    "\n",
    "thread_1.start()\n",
    "thread_2.start()\n",
    "\n",
    "thread_1.join()\n",
    "thread_2.join()"
   ],
   "metadata": {
    "collapsed": false,
    "pycharm": {
     "name": "#%%\n"
    }
   }
  },
  {
   "cell_type": "markdown",
   "source": [
    "### Async"
   ],
   "metadata": {
    "collapsed": false
   }
  },
  {
   "cell_type": "code",
   "execution_count": 44,
   "outputs": [],
   "source": [
    "async def ajob(client, n):\n",
    "    print(f\"--- request {n} sent\")\n",
    "    await client.get(f\"https://example.com/{n}\")\n",
    "    print(f\"--- response {n} received\")"
   ],
   "metadata": {
    "collapsed": false,
    "pycharm": {
     "name": "#%%\n"
    }
   }
  },
  {
   "cell_type": "code",
   "execution_count": 47,
   "outputs": [
    {
     "name": "stdout",
     "output_type": "stream",
     "text": [
      "--- request 1 sent\n",
      "--- request 2 sent\n",
      "--- response 1 received\n",
      "--- response 2 received\n",
      "0.8680598735809326\n"
     ]
    }
   ],
   "source": [
    "import asyncio\n",
    "import time\n",
    "\n",
    "\n",
    "async def amain():\n",
    "    async with httpx.AsyncClient() as client:\n",
    "        await asyncio.gather(\n",
    "            ajob(client=client, n=1),\n",
    "            ajob(client=client, n=2)\n",
    "        )\n",
    "\n",
    "\n",
    "start = time.time()\n",
    "await amain()\n",
    "print(time.time() - start)"
   ],
   "metadata": {
    "collapsed": false,
    "pycharm": {
     "name": "#%%\n"
    }
   }
  },
  {
   "cell_type": "markdown",
   "source": [
    "## Why do we need async?\n",
    "\n",
    "Cons of threads:\n",
    "- threads are heavier\n",
    "- switching is not under our control (*)\n",
    "\n",
    "Cons of async:\n",
    "- special syntax (steeper learning curve)\n",
    "- need ioloop to execute\n",
    "- no blocking code allowed (*)"
   ],
   "metadata": {
    "collapsed": false
   }
  },
  {
   "cell_type": "markdown",
   "source": [
    "## Timeline\n",
    "\n"
   ],
   "metadata": {
    "collapsed": false
   }
  },
  {
   "cell_type": "code",
   "execution_count": 46,
   "outputs": [],
   "source": [],
   "metadata": {
    "collapsed": false,
    "pycharm": {
     "name": "#%%\n"
    }
   }
  },
  {
   "cell_type": "code",
   "execution_count": null,
   "outputs": [],
   "source": [],
   "metadata": {
    "collapsed": false,
    "pycharm": {
     "name": "#%%\n"
    }
   }
  }
 ],
 "metadata": {
  "kernelspec": {
   "display_name": "Python 3 (ipykernel)",
   "language": "python",
   "name": "python3"
  },
  "language_info": {
   "codemirror_mode": {
    "name": "ipython",
    "version": 3
   },
   "file_extension": ".py",
   "mimetype": "text/x-python",
   "name": "python",
   "nbconvert_exporter": "python",
   "pygments_lexer": "ipython3",
   "version": "3.10.8"
  }
 },
 "nbformat": 4,
 "nbformat_minor": 5
}