{
 "cells": [
  {
   "cell_type": "markdown",
   "id": "c4446edd",
   "metadata": {
    "pycharm": {
     "name": "#%% md\n"
    }
   },
   "source": [
    "# A Brief History of Async"
   ]
  },
  {
   "cell_type": "markdown",
   "source": [
    "## Concurrency\n",
    "\n",
    "Concurrency == simulating parallelism by switching context.\n",
    "\n",
    "![concurrency](concurrency.png)"
   ],
   "metadata": {
    "collapsed": false
   }
  },
  {
   "cell_type": "markdown",
   "source": [
    "### Sequential execution"
   ],
   "metadata": {
    "collapsed": false
   }
  },
  {
   "cell_type": "code",
   "execution_count": 40,
   "outputs": [],
   "source": [
    "import httpx\n",
    "\n",
    "\n",
    "def job(n):\n",
    "    print(f\"--- request {n} sent\")\n",
    "    httpx.get(f\"https://example.com/{n}\")\n",
    "    print(f\"--- response {n} received\")"
   ],
   "metadata": {
    "collapsed": false,
    "pycharm": {
     "name": "#%%\n"
    }
   }
  },
  {
   "cell_type": "code",
   "execution_count": 41,
   "outputs": [
    {
     "name": "stdout",
     "output_type": "stream",
     "text": [
      "--- request 1 sent\n",
      "--- response 1 received\n",
      "--- request 2 sent\n",
      "--- response 2 received\n",
      "CPU times: user 47.7 ms, sys: 7.25 ms, total: 54.9 ms\n",
      "Wall time: 2.43 s\n"
     ]
    }
   ],
   "source": [
    "%%time\n",
    "\n",
    "job(1)\n",
    "job(2)"
   ],
   "metadata": {
    "collapsed": false,
    "pycharm": {
     "name": "#%%\n"
    }
   }
  },
  {
   "cell_type": "markdown",
   "source": [
    "### Threads\n",
    "\n",
    "A thread is an execution context, which is all the information a CPU needs to execute a stream of instructions.\n",
    "\n",
    "Switching context every sys.getswitchinterval() (5ms default)"
   ],
   "metadata": {
    "collapsed": false
   }
  },
  {
   "cell_type": "code",
   "execution_count": 42,
   "outputs": [
    {
     "name": "stdout",
     "output_type": "stream",
     "text": [
      "0.005\n"
     ]
    }
   ],
   "source": [
    "import sys\n",
    "\n",
    "\n",
    "print(sys.getswitchinterval())"
   ],
   "metadata": {
    "collapsed": false,
    "pycharm": {
     "name": "#%%\n"
    }
   }
  },
  {
   "cell_type": "code",
   "execution_count": 43,
   "outputs": [
    {
     "name": "stdout",
     "output_type": "stream",
     "text": [
      "--- request 1 sent\n",
      "--- request 2 sent\n",
      "--- response 1 received\n",
      "--- response 2 received\n",
      "CPU times: user 37.3 ms, sys: 14.2 ms, total: 51.5 ms\n",
      "Wall time: 1.09 s\n"
     ]
    }
   ],
   "source": [
    "%%time\n",
    "\n",
    "from functools import partial\n",
    "from threading import Thread\n",
    "\n",
    "\n",
    "thread_1 = Thread(target=partial(job, n=1))\n",
    "thread_2 = Thread(target=partial(job, n=2))\n",
    "\n",
    "thread_1.start()\n",
    "thread_2.start()\n",
    "\n",
    "thread_1.join()\n",
    "thread_2.join()"
   ],
   "metadata": {
    "collapsed": false,
    "pycharm": {
     "name": "#%%\n"
    }
   }
  },
  {
   "cell_type": "markdown",
   "source": [
    "### Async"
   ],
   "metadata": {
    "collapsed": false
   }
  },
  {
   "cell_type": "code",
   "execution_count": 44,
   "outputs": [],
   "source": [
    "async def ajob(client, n):\n",
    "    print(f\"--- request {n} sent\")\n",
    "    await client.get(f\"https://example.com/{n}\")\n",
    "    print(f\"--- response {n} received\")"
   ],
   "metadata": {
    "collapsed": false,
    "pycharm": {
     "name": "#%%\n"
    }
   }
  },
  {
   "cell_type": "code",
   "execution_count": 47,
   "outputs": [
    {
     "name": "stdout",
     "output_type": "stream",
     "text": [
      "--- request 1 sent\n",
      "--- request 2 sent\n",
      "--- response 1 received\n",
      "--- response 2 received\n",
      "0.8680598735809326\n"
     ]
    }
   ],
   "source": [
    "import asyncio\n",
    "import time\n",
    "\n",
    "\n",
    "async def amain():\n",
    "    async with httpx.AsyncClient() as client:\n",
    "        await asyncio.gather(\n",
    "            ajob(client=client, n=1),\n",
    "            ajob(client=client, n=2)\n",
    "        )\n",
    "\n",
    "\n",
    "start = time.time()\n",
    "await amain()\n",
    "print(time.time() - start)"
   ],
   "metadata": {
    "collapsed": false,
    "pycharm": {
     "name": "#%%\n"
    }
   }
  },
  {
   "cell_type": "markdown",
   "source": [
    "## Why do we need async?\n",
    "\n",
    "Cons of threads:\n",
    "- threads are heavier\n",
    "- switching is not under our control (*)\n",
    "\n",
    "Cons of async:\n",
    "- special syntax (steeper learning curve)\n",
    "- need ioloop to execute\n",
    "- no blocking code allowed (*)"
   ],
   "metadata": {
    "collapsed": false
   }
  },
  {
   "cell_type": "markdown",
   "source": [
    "## Timeline\n",
    "\n"
   ],
   "metadata": {
    "collapsed": false
   }
  },
  {
   "cell_type": "markdown",
   "source": [
    "- 1991 - The first python release\n",
    "- 2001 - Simple generators ([PEP-255](https://peps.python.org/pep-0255/))\n",
    "- 2002 - Twisted - event driven networking engine\n",
    "- 2005 - Generator based coroutines\n",
    "- 2008 - Python 3.0\n",
    "- 2009 - Tornado opensourced by Facebook (developed by FriendFeed)\n",
    "- 2012 - Python 3.3, proposed to make Tulip/asyncio a part of stdlib (`*`)\n",
    "- 2014 - Python 3.4, asyncio is a part of stdlib\n",
    "- 2015 - async/await syntax\n",
    "- 2016 - Python 3.6\n",
    "- 2018 - Python 3.7, support for [generator-based coroutines is deprecated](https://docs.python.org/3.7/library/asyncio-task.html#generator-based-coroutines) and is scheduled for removal in Python 3.10, FastAPI first release, tornado integration with asyncio by default\n",
    "- 2021 - Python 3.10\n",
    "\n",
    "`*` The Tulip project is the asyncio module for Python 3.3."
   ],
   "metadata": {
    "collapsed": false,
    "pycharm": {
     "name": "#%% md\n"
    }
   }
  },
  {
   "cell_type": "markdown",
   "source": [
    "### asyncio success\n",
    "\n",
    "- A part of stdlib\n",
    "- Unified ioloop interface\n",
    "- Native coroutines and async/await syntax\n",
    "- Wide support"
   ],
   "metadata": {
    "collapsed": false,
    "pycharm": {
     "name": "#%% md\n"
    }
   }
  },
  {
   "cell_type": "markdown",
   "source": [
    "## From callbacks to async"
   ],
   "metadata": {
    "collapsed": false
   }
  },
  {
   "cell_type": "markdown",
   "source": [
    "### Synchronous"
   ],
   "metadata": {
    "collapsed": false
   }
  },
  {
   "cell_type": "code",
   "execution_count": null,
   "outputs": [],
   "source": [
    "from tornado.httpclient import HTTPClient\n",
    "\n",
    "\n",
    "def synchronous_fetch(url):\n",
    "    http_client = HTTPClient()\n",
    "    response = http_client.fetch(url)\n",
    "    return response.body"
   ],
   "metadata": {
    "collapsed": false,
    "pycharm": {
     "name": "#%%\n"
    }
   }
  },
  {
   "cell_type": "markdown",
   "source": [
    "### With callbacks"
   ],
   "metadata": {
    "collapsed": false
   }
  },
  {
   "cell_type": "code",
   "execution_count": null,
   "outputs": [],
   "source": [
    "from tornado.httpclient import AsyncHTTPClient\n",
    "\n",
    "\n",
    "def asynchronous_fetch_callbacks(url, callback):\n",
    "    http_client = AsyncHTTPClient()\n",
    "\n",
    "    def handle_response(response):\n",
    "        callback(response.body)\n",
    "\n",
    "    http_client.fetch(url, callback=handle_response)"
   ],
   "metadata": {
    "collapsed": false,
    "pycharm": {
     "name": "#%%\n"
    }
   }
  },
  {
   "cell_type": "markdown",
   "source": [
    "### With `Future`"
   ],
   "metadata": {
    "collapsed": false
   }
  },
  {
   "cell_type": "code",
   "execution_count": null,
   "outputs": [],
   "source": [
    "from tornado.concurrent import Future\n",
    "from tornado.httpclient import AsyncHTTPClient\n",
    "\n",
    "\n",
    "def asynchronous_fetch_future(url):\n",
    "    http_client = AsyncHTTPClient()\n",
    "    my_future = Future()\n",
    "    fetch_future = http_client.fetch(url)\n",
    "\n",
    "    def on_fetch(f):\n",
    "        my_future.set_result(f.result().body)\n",
    "\n",
    "    fetch_future.add_done_callback(on_fetch)\n",
    "    return my_future"
   ],
   "metadata": {
    "collapsed": false,
    "pycharm": {
     "name": "#%%\n"
    }
   }
  },
  {
   "cell_type": "markdown",
   "source": [
    "### With Tornado `gen` (generator based coroutine)"
   ],
   "metadata": {
    "collapsed": false
   }
  },
  {
   "cell_type": "code",
   "execution_count": null,
   "outputs": [],
   "source": [
    "from tornado import gen\n",
    "from tornado.httpclient import AsyncHTTPClient\n",
    "\n",
    "\n",
    "@gen.coroutine\n",
    "def asynchronous_fetch_gen(url):\n",
    "    http_client = AsyncHTTPClient()\n",
    "    response = yield http_client.fetch(url)\n",
    "    raise gen.Return(response.body)\n",
    "\n",
    "\n",
    "# TODO: add illustration with ioloop"
   ],
   "metadata": {
    "collapsed": false,
    "pycharm": {
     "name": "#%%\n"
    }
   }
  },
  {
   "cell_type": "markdown",
   "source": [
    "### `yield from` and `return` for generator bases coroutines"
   ],
   "metadata": {
    "collapsed": false
   }
  },
  {
   "cell_type": "code",
   "execution_count": null,
   "outputs": [],
   "source": [
    "@asyncio.coroutine\n",
    "def asynchronous_fetch_gen(url):\n",
    "    http_client = AsyncHTTPClient()\n",
    "    response = yield http_client.fetch(url)\n",
    "    return response.body\n",
    "\n",
    "\n",
    "@asyncio.coroutine\n",
    "def amain():\n",
    "    result = yield from asynchronous_fetch_gen('https://example.com')\n",
    "    return result"
   ],
   "metadata": {
    "collapsed": false,
    "pycharm": {
     "name": "#%%\n"
    }
   }
  },
  {
   "cell_type": "markdown",
   "source": [
    "### With `async`/`await`"
   ],
   "metadata": {
    "collapsed": false
   }
  },
  {
   "cell_type": "code",
   "execution_count": null,
   "outputs": [],
   "source": [
    "from tornado.httpclient import AsyncHTTPClient\n",
    "\n",
    "\n",
    "async def asynchronous_fetch(url):\n",
    "    http_client = AsyncHTTPClient()\n",
    "    response = await http_client.fetch(url)\n",
    "    return response.body"
   ],
   "metadata": {
    "collapsed": false,
    "pycharm": {
     "name": "#%%\n"
    }
   }
  },
  {
   "cell_type": "markdown",
   "source": [
    "## Generators and coroutines\n",
    "\n"
   ],
   "metadata": {
    "collapsed": false
   }
  },
  {
   "cell_type": "markdown",
   "source": [
    "## New concepts\n",
    "\n",
    "- async def (native coroutine)\n",
    "- async for (async iterator, `__next__` -> `__anext__`)\n",
    "- async with (async context manager, `__extent__` and `__exit__` -> `__aextent__` and `__aexit__`)\n",
    "- await and awaitables\n",
    "\n",
    "Awaitable:\n",
    "- Coroutine\n",
    "- Future\n",
    "- Task (a subclass of Future)\n",
    "\n",
    "await can be used only inside a coroutine."
   ],
   "metadata": {
    "collapsed": false
   }
  },
  {
   "cell_type": "code",
   "execution_count": null,
   "outputs": [],
   "source": [
    "import asyncio\n",
    "\n",
    "async def coro():\n",
    "    await asyncio.sleep(0.5)\n",
    "\n",
    "asyncio.run(coro())"
   ],
   "metadata": {
    "collapsed": false,
    "pycharm": {
     "name": "#%%\n",
     "is_executing": true
    }
   }
  },
  {
   "cell_type": "code",
   "execution_count": null,
   "outputs": [],
   "source": [],
   "metadata": {
    "collapsed": false,
    "pycharm": {
     "name": "#%%\n"
    }
   }
  }
 ],
 "metadata": {
  "kernelspec": {
   "display_name": "Python 3 (ipykernel)",
   "language": "python",
   "name": "python3"
  },
  "language_info": {
   "codemirror_mode": {
    "name": "ipython",
    "version": 3
   },
   "file_extension": ".py",
   "mimetype": "text/x-python",
   "name": "python",
   "nbconvert_exporter": "python",
   "pygments_lexer": "ipython3",
   "version": "3.10.8"
  }
 },
 "nbformat": 4,
 "nbformat_minor": 5
}